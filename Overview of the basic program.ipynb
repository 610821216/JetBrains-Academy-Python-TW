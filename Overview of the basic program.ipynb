{
 "cells": [
  {
   "cell_type": "markdown",
   "metadata": {},
   "source": [
    "# 基本程式概述\n",
    "\n",
    "本單元將學習如何開發第一個Python程式，儘管這些程式看起來非常簡單口語化，但他們在語法上仍然是正確的，並表明使用Python編碼是一種享受。\n",
    "\n",
    "## 1. Hello World \"\n",
    "我們的第一個範例為' Hello, World! '。這句話通常是用於對初學者介紹新學習的程式語言。\n"
   ]
  },
  {
   "cell_type": "code",
   "execution_count": null,
   "metadata": {},
   "outputs": [],
   "source": [
    "print(\"Hello, World!\")"
   ]
  },
  {
   "cell_type": "markdown",
   "metadata": {},
   "source": [
    "如您所見，它由單行組成，印出括號中傳遞的`字串`，但不帶引號。您可以在線上連結執行此程式碼（只需將其複製並點擊三角形即可）或遵循這些安裝提示。您應該得到以下結果：\n",
    "\n",
    "`Hello, World!`\n",
    "儘管這段程式碼非常簡單，但我們將更詳細地介紹它。\n",
    "\n",
    "## 2. 簡述\n",
    "\n",
    "在這裡，`print`是函數的名稱。函數是一段程式碼，可以為您完成一些有用的工作，例如打印文本。從某種意義上說，函數是可以在程式中重用的子程式。當函數名稱後面帶有括號時，表示調用該函數是為了得到結果。\n",
    "\n",
    "讓更進一步， `\"Hello, World!\"`是Python`字串`。所有字串都用`單引號`或`雙引號`引起來，因此`\" Hello，World！\"`也是有效的字串。您可以將該字串替換為另一個字串，程式將打印新字串。例如："
   ]
  },
  {
   "cell_type": "code",
   "execution_count": null,
   "metadata": {},
   "outputs": [],
   "source": [
    "print('Python 3.x')"
   ]
  },
  {
   "cell_type": "markdown",
   "metadata": {},
   "source": [
    "您可能會猜到，該程式將印出\n",
    "`Python 3.x`\n",
    "\n",
    "## 3. 用引號印出\n",
    "如果你想將引號包含在字符中，請將該字串用其他引號包起來，如:\n"
   ]
  },
  {
   "cell_type": "code",
   "execution_count": null,
   "metadata": {},
   "outputs": [],
   "source": [
    "print(\"Yes, I'm ready to learn Python.\")"
   ]
  },
  {
   "cell_type": "markdown",
   "metadata": {},
   "source": [
    "他會印出\n",
    "`Yes, I'm ready to learn Python.`\n",
    "\n",
    "妳可以試著用前面提供的連結執行所有範例，這將會幫助你了解Python。\n",
    "\n",
    "## 4.可能會出現的錯誤\n",
    "\n",
    "即使這一行簡單的代碼也可能包含錯誤\n",
    "\n",
    "   "
   ]
  },
  {
   "cell_type": "code",
   "execution_count": 18,
   "metadata": {},
   "outputs": [
    {
     "ename": "IndentationError",
     "evalue": "unexpected indent (<ipython-input-18-7c4fa356fac8>, line 3)",
     "output_type": "error",
     "traceback": [
      "\u001b[1;36m  File \u001b[1;32m\"<ipython-input-18-7c4fa356fac8>\"\u001b[1;36m, line \u001b[1;32m3\u001b[0m\n\u001b[1;33m    print(\"Hello, World!\")\u001b[0m\n\u001b[1;37m    ^\u001b[0m\n\u001b[1;31mIndentationError\u001b[0m\u001b[1;31m:\u001b[0m unexpected indent\n"
     ]
    }
   ],
   "source": [
    "# 額外的縮排\n",
    "\n",
    "    print(\"Hello, World!\")\n",
    "\n",
    "\n",
    "#print前面有多餘的空白，因此無法使用\n"
   ]
  },
  {
   "cell_type": "code",
   "execution_count": 16,
   "metadata": {},
   "outputs": [
    {
     "ename": "SyntaxError",
     "evalue": "invalid syntax (<ipython-input-16-e28d183a2651>, line 4)",
     "output_type": "error",
     "traceback": [
      "\u001b[1;36m  File \u001b[1;32m\"<ipython-input-16-e28d183a2651>\"\u001b[1;36m, line \u001b[1;32m4\u001b[0m\n\u001b[1;33m    ```\u001b[0m\n\u001b[1;37m    ^\u001b[0m\n\u001b[1;31mSyntaxError\u001b[0m\u001b[1;31m:\u001b[0m invalid syntax\n"
     ]
    }
   ],
   "source": [
    "# 使用函數時打錯函數名稱\n",
    "\n",
    "pint(\"Hello, World!\")\n",
    "\n",
    "#目前不存在pint這個函數來去引用\n"
   ]
  },
  {
   "cell_type": "code",
   "execution_count": 19,
   "metadata": {},
   "outputs": [],
   "source": [
    "# 寫錯名子\n",
    "\n",
    "PRINT(\"All caps\")\n",
    "\n",
    "#Print, print  PRINT 都是不一樣的，名稱在python中大小寫相異表示不同的相異函數\n"
   ]
  },
  {
   "cell_type": "code",
   "execution_count": null,
   "metadata": {},
   "outputs": [],
   "source": [
    "#印出時缺少一些引號\n",
    "\n",
    "print(\"Python)\n",
    "#缺少右引號"
   ]
  },
  {
   "cell_type": "code",
   "execution_count": null,
   "metadata": {},
   "outputs": [],
   "source": [
    "#缺少括號\n",
    "print(\"I have no end\"\n",
    "#請注意括號，尤其是在調用函數時"
   ]
  },
  {
   "cell_type": "markdown",
   "metadata": {},
   "source": [
    "現在你應該比較能避免以上類似的狀況了\n",
    "\n",
    "---\n",
    "\n",
    "## 問題1:打印結果\n",
    "你認為此程式會印出什麼結果?"
   ]
  },
  {
   "cell_type": "code",
   "execution_count": null,
   "metadata": {},
   "outputs": [],
   "source": [
    "print(\"Let's begin\")"
   ]
  },
  {
   "cell_type": "markdown",
   "metadata": {},
   "source": [
    "## 問題2: 多個引號\n",
    "選出你認為能正確的印出字串，不會讓程式出現錯誤\n",
    "+ print(\"The ship's name is 'Brave'.\")\n",
    "+ print('Cat's paws.')\n",
    "+ print('The word \"Ciao\" means \"hello\" in Italian.')\n",
    "+ print(\"And \"Ciao\" is Italian \"Bye\".\")\n",
    "\n",
    "## 問題3:你的名子\n",
    "\n",
    "寫一個程式可以印出字串\"My name is\"並接上你自己的名子輸出結果，每個單字必須用空白隔開。\n",
    "\n",
    "輸出結果範例:`My name is John`\n"
   ]
  },
  {
   "cell_type": "code",
   "execution_count": null,
   "metadata": {},
   "outputs": [],
   "source": [
    "print(\"My name is John\")"
   ]
  },
  {
   "cell_type": "markdown",
   "metadata": {},
   "source": [
    "## 問題4:愛麗絲夢遊仙境\n",
    "\n",
    "文學作品 `Alice's Adventures in Wonderland ` 常常被縮寫成`Alice in Wonderland`\n",
    "請印出作品全名`Alice's Adventures in Wonderland`"
   ]
  },
  {
   "cell_type": "code",
   "execution_count": null,
   "metadata": {},
   "outputs": [],
   "source": [
    "print(\"Alice's Adventures in Wonderland\")"
   ]
  },
  {
   "cell_type": "markdown",
   "metadata": {},
   "source": [
    "## 問題5:永恆真理\n",
    "\n",
    "請印出`2 + 2 = 4`"
   ]
  },
  {
   "cell_type": "code",
   "execution_count": null,
   "metadata": {},
   "outputs": [],
   "source": [
    "print(\"2 + 2 = 4\")"
   ]
  },
  {
   "cell_type": "markdown",
   "metadata": {},
   "source": [
    "## 問題6:print是什麼\n",
    "\n",
    "請選擇print 在python3中的性質。\n",
    "\n",
    "+ 陳述式\n",
    "+ 函數\n",
    "+ 表示式\n",
    "+ 指令\n",
    "\n",
    "## 問題7:印出文本\n",
    "\n",
    "選擇所有正確能執行的程式"
   ]
  },
  {
   "cell_type": "code",
   "execution_count": null,
   "metadata": {},
   "outputs": [],
   "source": [
    "#a)\n",
    "print(\"Hello\")"
   ]
  },
  {
   "cell_type": "code",
   "execution_count": null,
   "metadata": {},
   "outputs": [],
   "source": [
    "#b)\n",
    "      print(\"Hello\")"
   ]
  },
  {
   "cell_type": "code",
   "execution_count": null,
   "metadata": {},
   "outputs": [],
   "source": [
    "#c)\n",
    "print(Hello)"
   ]
  },
  {
   "cell_type": "code",
   "execution_count": null,
   "metadata": {},
   "outputs": [],
   "source": [
    "#d)\n",
    "print('Hello')"
   ]
  },
  {
   "cell_type": "markdown",
   "metadata": {},
   "source": [
    "## 問題8:簡訊\n",
    "\n",
    "寫個程式能夠印出字串`We learn Python!`\n",
    "請注意此問題的大小寫有別"
   ]
  },
  {
   "cell_type": "code",
   "execution_count": null,
   "metadata": {},
   "outputs": [],
   "source": []
  }
 ],
 "metadata": {
  "kernelspec": {
   "display_name": "Python 3",
   "language": "python",
   "name": "python3"
  },
  "language_info": {
   "codemirror_mode": {
    "name": "ipython",
    "version": 3
   },
   "file_extension": ".py",
   "mimetype": "text/x-python",
   "name": "python",
   "nbconvert_exporter": "python",
   "pygments_lexer": "ipython3",
   "version": "3.7.0"
  }
 },
 "nbformat": 4,
 "nbformat_minor": 2
}
